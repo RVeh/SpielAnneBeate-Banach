{
 "cells": [
  {
   "cell_type": "code",
   "execution_count": 1,
   "id": "3581aa2d-3113-445d-a4ab-e17b4a829201",
   "metadata": {},
   "outputs": [
    {
     "data": {
      "image/png": "[encoded data removed]",
      "text/plain": [
       "<Figure size 340.157x226.772 with 1 Axes>"
      ]
     },
     "metadata": {
      "needs_background": "light"
     },
     "output_type": "display_data"
    }
   ],
   "source": [
    "import random\n",
    "import matplotlib.pyplot as plt\n",
    "import numpy as np\n",
    "import math\n",
    "\n",
    "# Hilfsfunktion, um die Binomialkoeffizienten zu berechnen\n",
    "def binomial(n, k):\n",
    "    return math.comb(n, k)\n",
    "\n",
    "# Exakte Wahrscheinlichkeiten P(X_n=k)\n",
    "def berechne_exakte_wahrscheinlichkeiten(n):\n",
    "    wahrscheinlichkeiten = []\n",
    "    for k in range(n):\n",
    "        p = 2 * binomial(n + k - 1, k) * (0.5 ** (n + k))\n",
    "        wahrscheinlichkeiten.append(p)\n",
    "    return wahrscheinlichkeiten\n",
    "\n",
    "# Simuliere ein einzelnes Spiel\n",
    "def simuliere_spiel(n):\n",
    "    punkte_anne = 0\n",
    "    punkte_beate = 0\n",
    "    \n",
    "    while punkte_anne < n and punkte_beate < n:\n",
    "        if random.random() < 0.5:  # Anne gewinnt die Runde\n",
    "            punkte_anne += 1\n",
    "        else:  # Beate gewinnt die Runde\n",
    "            punkte_beate += 1\n",
    "            \n",
    "    if punkte_anne == n:\n",
    "        return punkte_beate  # Beate ist Verliererin\n",
    "    else:\n",
    "        return punkte_anne  # Anne ist Verliererin\n",
    "\n",
    "# Simuliere mehrere Spiele und sammle die Ergebnisse\n",
    "def simuliere_spiele(n, anzahl_spiele):\n",
    "    ergebnisse = [0] * n  # Liste, die zählt, wie oft die Verliererin 0, 1, ..., n-1 Punkte hat\n",
    "\n",
    "    for _ in range(anzahl_spiele):\n",
    "        k = simuliere_spiel(n)  # Punkte der Verliererin\n",
    "        ergebnisse[k] += 1\n",
    "\n",
    "    relative_haeufigkeiten = [x / anzahl_spiele for x in ergebnisse]\n",
    "    return relative_haeufigkeiten\n",
    "\n",
    "# Zeichne das Stabdiagramm und füge die exakten Werte hinzu\n",
    "def plot_ergebnisse(n, relative_haeufigkeiten, farbe='blue', balkenbreite=0.6, edgecolor='black', width_cm=12, height_cm=8):\n",
    "    # Umrechnung von cm in Zoll (1 Zoll = 2.54 cm)\n",
    "    width_inch = width_cm / 2.54\n",
    "    height_inch = height_cm / 2.54\n",
    "    \n",
    "    # Größe der Grafik in Zoll festlegen (nach Umrechnung)\n",
    "    plt.figure(figsize=(width_inch, height_inch))\n",
    "    \n",
    "    exakte_wahrscheinlichkeiten = berechne_exakte_wahrscheinlichkeiten(n)\n",
    "    x_werte = np.arange(n)\n",
    "    \n",
    "    # Zeichne das Stabdiagramm der Simulationsergebnisse\n",
    "    plt.bar(x_werte, relative_haeufigkeiten, color=farbe, width=balkenbreite, edgecolor=edgecolor, label=\"Simulation\")\n",
    "    \n",
    "    # Zeichne die exakten Wahrscheinlichkeiten als Punkte (hier schwarz statt rot)\n",
    "    plt.plot(x_werte, exakte_wahrscheinlichkeiten, 'ko', label=\"Exakte Werte\")\n",
    "    \n",
    "    # Achsenbeschriftungen und Titel mit größerer Schriftgröße\n",
    "    plt.xlabel('Punkte der Verliererin (k)', fontsize=14)\n",
    "    \n",
    "    # Beschriftung der y-Achse mit dynamisch eingefügtem n in LaTeX-Notation\n",
    "    plt.ylabel(r'$h_{{{0}}}(k)$ und $\\mathbb{{P}}_{{{0}}}(X = k)$'.format(n), fontsize=14)\n",
    "    \n",
    "    #plt.title(f'Relative Häufigkeiten der Punkte der Verliererin (n = {n})', fontsize=16)\n",
    "    \n",
    "    # Größe der Ticks auf den Achsen anpassen\n",
    "    plt.xticks(fontsize=12)\n",
    "    plt.yticks(fontsize=12)\n",
    "    \n",
    "    # Legende anpassen\n",
    "    plt.legend(fontsize=12)\n",
    "    \n",
    "    # Zeige die Grafik\n",
    "    plt.show()\n",
    "\n",
    "# Parameter\n",
    "n = 10  # Anzahl der Punkte zum Sieg\n",
    "anzahl_spiele = 10000  # Anzahl der Simulationen\n",
    "farbe = 'lightgray'  # Farbe der Balken\n",
    "balkenbreite = 0.1  # Breite der Balken\n",
    "edgecolor = 'black'  # Randfarbe der Balken\n",
    "\n",
    "# Simulation durchführen und Ergebnisse plotten\n",
    "relative_haeufigkeiten = simuliere_spiele(n, anzahl_spiele)\n",
    "plot_ergebnisse(n, relative_haeufigkeiten, farbe=farbe, balkenbreite=balkenbreite, edgecolor=edgecolor)"
   ]
  },
  {
   "cell_type": "code",
   "execution_count": null,
   "id": "38cafd20-606b-4235-8406-2e54a45fc925",
   "metadata": {},
   "outputs": [],
   "source": []
  }
 ],
 "metadata": {
  "kernelspec": {
   "display_name": "Python 3 (ipykernel)",
   "language": "python",
   "name": "python3"
  },
  "language_info": {
   "codemirror_mode": {
    "name": "ipython",
    "version": 3
   },
   "file_extension": ".py",
   "mimetype": "text/x-python",
   "name": "python",
   "nbconvert_exporter": "python",
   "pygments_lexer": "ipython3",
   "version": "3.9.7"
  }
 },
 "nbformat": 4,
 "nbformat_minor": 5
}
