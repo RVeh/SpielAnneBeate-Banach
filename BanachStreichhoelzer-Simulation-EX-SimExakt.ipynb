{
 "cells": [
  {
   "cell_type": "code",
   "execution_count": 36,
   "metadata": {},
   "outputs": [
    {
     "data": {
      "image/png": "[encoded data removed]",
      "text/plain": [
       "<Figure size 432x288 with 1 Axes>"
      ]
     },
     "metadata": {
      "needs_background": "light"
     },
     "output_type": "display_data"
    },
    {
     "name": "stdout",
     "output_type": "stream",
     "text": [
      "10000 Simulationen\n",
      "Nährerungswert für E(X):  2.4898\n",
      "exakter Wert für E(X), gerundet auf 4 Nachkommastellen:  2.5239\n",
      "Näherung für E(X) mit der Stirling-Formel:  2.385137501286538\n"
     ]
    }
   ],
   "source": [
    "import numpy as np\n",
    "import matplotlib.pyplot as plt\n",
    "import scipy.special as kbin\n",
    "import random\n",
    "# Initialisierung\n",
    "w=10000\n",
    "n=9\n",
    "Fach=np.array([0]*(n+1))\n",
    "FachNr=[k for k in range(n+1)]\n",
    "#Simulation\n",
    "for i in range(w):\n",
    "    links,rechts=n,n\n",
    "    stop=0\n",
    "    while stop==0:\n",
    "        wahl=random.randint(0,1)\n",
    "        if wahl==0:\n",
    "            if links>0: \n",
    "                links-=1\n",
    "            else: stop=1\n",
    "        if wahl==1:\n",
    "            if rechts>0: \n",
    "                rechts-=1\n",
    "            else: stop=1\n",
    "    if links==0: Fach[rechts]+=1\n",
    "    else: Fach[links]+=1\n",
    "\n",
    "plt.bar(FachNr,Fach/w,width=0.4,edgecolor='black',color='LightBlue')\n",
    "plt.title('Häufigkeitsverteilung; n='+str(n),fontsize=14)\n",
    "plt.xlabel('k',fontsize=14); plt.ylabel('rel. Häufigkeit',fontsize=14)\n",
    "plt.show()\n",
    "print(f'{w} Simulationen')\n",
    "print('Nährerungswert für E(X): ',sum(FachNr*Fach)/w)\n",
    "EX_exakt=kbin.comb(2*n,n,exact=True)*(2*n+1)*1/(2**(2*n))-1\n",
    "print('exakter Wert für E(X), gerundet auf 4 Nachkommastellen: ',round(EX_exakt,4))\n",
    "print('Näherung für E(X) mit der Stirling-Formel: ',2*np.sqrt(n/np.pi)-1)"
   ]
  },
  {
   "cell_type": "code",
   "execution_count": null,
   "metadata": {},
   "outputs": [],
   "source": []
  },
  {
   "cell_type": "code",
   "execution_count": 11,
   "metadata": {},
   "outputs": [],
   "source": [
    "plt.rcParams['axes.titlesize']  = 16; plt.rcParams['axes.labelsize']  = 16\n",
    "plt.rcParams['xtick.labelsize'] = 14; plt.rcParams['ytick.labelsize'] = 14"
   ]
  },
  {
   "cell_type": "code",
   "execution_count": 63,
   "metadata": {},
   "outputs": [
    {
     "data": {
      "image/png": "[encoded data removed]",
      "text/plain": [
       "<Figure size 432x288 with 1 Axes>"
      ]
     },
     "metadata": {
      "needs_background": "light"
     },
     "output_type": "display_data"
    },
    {
     "name": "stdout",
     "output_type": "stream",
     "text": [
      "EX-Simulation:  2.5211\n",
      "EX-exakt:  2.5239410400390625\n",
      "Näherung mit Stirling-Formel:  2.385137501286538\n"
     ]
    }
   ],
   "source": [
    "import numpy as np\n",
    "import matplotlib.pyplot as plt\n",
    "import scipy.special as kbin\n",
    "import random\n",
    "# Initialisierung\n",
    "w=10000; n=9\n",
    "H=np.array([0 for _ in range(n+1)])\n",
    "P=[0 for _ in range(n+1)]\n",
    "P1=[0 for _ in range(n+1)]\n",
    "kWerte=[k for k in range(n+1)]\n",
    "# exakte Berechnung von P(X_n=k)\n",
    "for k in range(n+1):\n",
    "    P[k]=kbin.comb(2*n-k,n,exact=True)*1/(2**(2*n-k))\n",
    "for k in range(n+1):\n",
    "    P1[k]=kbin.comb(n+k,k,exact=True)*1/(2**(n+k))\n",
    "#Simulation\n",
    "for i in range(w):\n",
    "    links,rechts=n,n; stop=0\n",
    "    while stop==0:\n",
    "        wahl=random.randint(0,1)\n",
    "        if wahl==0:\n",
    "            if links>0: links-=1\n",
    "            else: stop=1\n",
    "        if wahl==1:\n",
    "            if rechts>0: rechts-=1\n",
    "            else: stop=1\n",
    "    if links==0: H[rechts]+=1\n",
    "    else: H[links]+=1\n",
    "#Ausgabe\n",
    "plt.bar(kWerte,H/w,width=0.2,edgecolor='black',color='lightgray')\n",
    "plt.scatter(kWerte,P,s=30,c='black')\n",
    "plt.title('Häufigkeitsverteilung; n='+str(n))\n",
    "plt.xlabel('k'); plt.ylabel('rel. Häufigkeit')\n",
    "plt.show()\n",
    "print('EX-Simulation: ',sum(kWerte*H)/w)\n",
    "EX_exakt=kbin.comb(2*n,n,exact=True)*(2*n+1)*1/(2**(2*n))-1\n",
    "print('EX-exakt: ',EX_exakt)\n",
    "print('Näherung mit Stirling-Formel: ',2*np.sqrt(n/np.pi)-1) "
   ]
  },
  {
   "cell_type": "code",
   "execution_count": null,
   "metadata": {},
   "outputs": [],
   "source": [
    "print(H)"
   ]
  },
  {
   "cell_type": "code",
   "execution_count": null,
   "metadata": {},
   "outputs": [],
   "source": [
    "print(Fach)"
   ]
  },
  {
   "cell_type": "code",
   "execution_count": null,
   "metadata": {},
   "outputs": [],
   "source": [
    "print(sum(H))"
   ]
  },
  {
   "cell_type": "code",
   "execution_count": null,
   "metadata": {},
   "outputs": [],
   "source": [
    "print(sum(Fach))"
   ]
  },
  {
   "cell_type": "code",
   "execution_count": 55,
   "metadata": {},
   "outputs": [
    {
     "name": "stdout",
     "output_type": "stream",
     "text": [
      "[0.1854705810546875, 0.1854705810546875, 0.174560546875, 0.152740478515625, 0.1221923828125, 0.0872802734375, 0.0537109375, 0.02685546875, 0.009765625, 0.001953125]\n"
     ]
    }
   ],
   "source": [
    "print(P)"
   ]
  },
  {
   "cell_type": "code",
   "execution_count": 57,
   "metadata": {},
   "outputs": [
    {
     "name": "stdout",
     "output_type": "stream",
     "text": [
      "[0.001953125, 0.009765625, 0.02685546875, 0.0537109375, 0.0872802734375, 0.1221923828125, 0.152740478515625, 0.174560546875, 0.1854705810546875, 0.1854705810546875]\n"
     ]
    }
   ],
   "source": [
    "print(P1)"
   ]
  },
  {
   "cell_type": "code",
   "execution_count": null,
   "metadata": {},
   "outputs": [],
   "source": []
  }
 ],
 "metadata": {
  "kernelspec": {
   "display_name": "Python 3 (ipykernel)",
   "language": "python",
   "name": "python3"
  },
  "language_info": {
   "codemirror_mode": {
    "name": "ipython",
    "version": 3
   },
   "file_extension": ".py",
   "mimetype": "text/x-python",
   "name": "python",
   "nbconvert_exporter": "python",
   "pygments_lexer": "ipython3",
   "version": "3.9.7"
  }
 },
 "nbformat": 4,
 "nbformat_minor": 4
}
