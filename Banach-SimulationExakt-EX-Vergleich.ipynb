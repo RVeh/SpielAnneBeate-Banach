{
 "cells": [
  {
   "cell_type": "code",
   "execution_count": 1,
   "id": "d5938ac0-5f55-4d05-9534-7c31f0823677",
   "metadata": {},
   "outputs": [
    {
     "data": {
      "image/png": "[encoded data removed]",
      "text/plain": [
       "<Figure size 432x288 with 1 Axes>"
      ]
     },
     "metadata": {
      "needs_background": "light"
     },
     "output_type": "display_data"
    },
    {
     "name": "stdout",
     "output_type": "stream",
     "text": [
      "Anzahl der Streichhölzer: 10\n",
      "B_n: zufällige Anzahl der noch in der anderen Schachtel befindlichen Streichhölzer\n",
      "Anzahl der Simulationen: 10000\n",
      "Erwartungswert aus der Simulation: 2.7068\n",
      "Exakter Erwartungswert: 2.7001\n"
     ]
    }
   ],
   "source": [
    "import numpy as np\n",
    "import matplotlib.pyplot as plt\n",
    "from scipy.special import comb\n",
    "\n",
    "# Simulation des Banachschen Streichholzproblems\n",
    "def simulate(n, num_simulations):\n",
    "    counts = np.zeros(n + 1, dtype=int)\n",
    "    \n",
    "    for _ in range(num_simulations):\n",
    "        pockets = [n, n]\n",
    "        \n",
    "        while True:\n",
    "            chosen_pocket = np.random.choice(2)\n",
    "            if pockets[chosen_pocket] == 0:\n",
    "                other_pocket = 1 - chosen_pocket\n",
    "                counts[pockets[other_pocket]] += 1\n",
    "                break\n",
    "            \n",
    "            pockets[chosen_pocket] -= 1\n",
    "    \n",
    "    probabilities = counts / num_simulations\n",
    "    # Berechnung des Erwartungswerts aus der Simulation\n",
    "    expected_value_sim = np.sum(np.arange(n + 1) * probabilities)\n",
    "    \n",
    "    return probabilities, expected_value_sim\n",
    "\n",
    "# Exakte Wahrscheinlichkeiten berechnen\n",
    "def exact_probabilities(n):\n",
    "    probs = np.zeros(n + 1)\n",
    "    for k in range(n + 1):\n",
    "        binomial_coefficient = comb(2 * n - k, n, exact=True)\n",
    "        probs[k] = binomial_coefficient * (0.5 ** (2 * n - k))\n",
    "    return probs\n",
    "\n",
    "# Exakten Erwartungswert berechnen\n",
    "def exact_expected_value(n):\n",
    "    exact_probs = exact_probabilities(n)  # Verwende hier einen eindeutigen Variablennamen\n",
    "    # Berechnung des Erwartungswerts durch gewichtetes Mittel\n",
    "    expected_value_exact = np.sum(np.arange(n + 1) * exact_probs)\n",
    "    return expected_value_exact\n",
    "\n",
    "# Plotten des Vergleichs der simulierten und exakten Wahrscheinlichkeiten\n",
    "def plot_bar_chart(sim_probabilities, exact_probs, n):\n",
    "    x = np.arange(n + 1)\n",
    "    \n",
    "    #colors = plt.cm.viridis(np.linspace(0, 1, n + 1))\n",
    "    bar_width = 0.2\n",
    "    \n",
    "    fig, ax = plt.subplots()\n",
    "    bars = ax.bar(x, sim_probabilities, color='skyblue', edgecolor='black', width=bar_width, label='Simulation')\n",
    "    \n",
    "    # Plotten der exakten Wahrscheinlichkeiten als Punkte\n",
    "    ax.plot(x, exact_probs, 'ro', label='Exakte Werte')  # 'ro' für rote Punkte\n",
    "\n",
    "    ax.set_xlabel('Anzahl k der Streichhölzer in der anderen Schachtel',\n",
    "                 fontsize=13)\n",
    "    #ax.set_ylabel('Wahrscheinlichkeit',fontsize=14)\n",
    "    ax.set_ylabel(r'$h_{{{0}}}(k)$ ;  $\\mathbb{{P}}(B_{{{0}}} = k)$'.format(n),fontsize=14)\n",
    "    ax.set_title('Vergleich der simulierten und exakten Wahrscheinlichkeiten')\n",
    "    ax.legend()\n",
    "    \n",
    "    plt.xticks(x)\n",
    "    plt.show()\n",
    "\n",
    "# Setze die Parameter\n",
    "n = 10  # Anzahl der Streichhölzer in jeder Schachtel\n",
    "num_simulations = 10000  # Anzahl der Simulationen\n",
    "\n",
    "# Führe die Simulation durch\n",
    "sim_probabilities, expected_value_sim = simulate(n, num_simulations)\n",
    "\n",
    "# Berechne die exakten Wahrscheinlichkeiten\n",
    "exact_probs = exact_probabilities(n)  # Verwende hier den neuen Variablennamen\n",
    "\n",
    "# Berechne den exakten Erwartungswert\n",
    "expected_value_exact = exact_expected_value(n)\n",
    "\n",
    "# Plotten des Stabdiagramms und der exakten Wahrscheinlichkeiten\n",
    "plot_bar_chart(sim_probabilities, exact_probs, n)\n",
    "\n",
    "print('Anzahl der Streichhölzer:',n)\n",
    "print('B_n: zufällige Anzahl der noch in der anderen Schachtel befindlichen Streichhölzer')\n",
    "print('Anzahl der Simulationen:',num_simulations)\n",
    "# Ausgabe der Erwartungswerte\n",
    "print(f\"Erwartungswert aus der Simulation: {expected_value_sim:.4f}\")\n",
    "print(f\"Exakter Erwartungswert: {expected_value_exact:.4f}\")\n"
   ]
  },
  {
   "cell_type": "code",
   "execution_count": null,
   "id": "5f6df00a-880e-4ba2-a1b1-1d1fd238bc03",
   "metadata": {},
   "outputs": [],
   "source": []
  }
 ],
 "metadata": {
  "kernelspec": {
   "display_name": "Python 3 (ipykernel)",
   "language": "python",
   "name": "python3"
  },
  "language_info": {
   "codemirror_mode": {
    "name": "ipython",
    "version": 3
   },
   "file_extension": ".py",
   "mimetype": "text/x-python",
   "name": "python",
   "nbconvert_exporter": "python",
   "pygments_lexer": "ipython3",
   "version": "3.9.7"
  }
 },
 "nbformat": 4,
 "nbformat_minor": 5
}
